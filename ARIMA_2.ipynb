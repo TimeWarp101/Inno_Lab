{
 "cells": [
  {
   "cell_type": "code",
   "execution_count": 28,
   "metadata": {},
   "outputs": [],
   "source": [
    "import numpy as np\n",
    "import csv\n",
    "import pandas as pd\n",
    "import datetime\n",
    "import timedelta\n",
    "import matplotlib.pyplot as plt\n",
    "from sklearn.model_selection import train_test_split\n",
    "from sklearn.preprocessing import StandardScaler\n",
    "from sklearn.metrics import mean_squared_error, r2_score, mean_absolute_error\n",
    "from statsmodels.tools.eval_measures import rmse\n",
    "from pmdarima import auto_arima\n",
    "from statsmodels.tsa.stattools import adfuller\n",
    "from statsmodels.tsa.arima.model import ARIMA\n",
    "import warnings"
   ]
  },
  {
   "cell_type": "code",
   "execution_count": 29,
   "metadata": {},
   "outputs": [],
   "source": [
    "warnings.filterwarnings(\"ignore\")\n",
    "file = open(\"../Simplified_Dataset.csv\")\n",
    "csvreader = csv.reader(file)\n",
    "rows = []\n",
    "header = next(csvreader)\n",
    "for row in csvreader:\n",
    "    rows.append(row)\n",
    "file.close()"
   ]
  },
  {
   "cell_type": "code",
   "execution_count": 30,
   "metadata": {},
   "outputs": [
    {
     "data": {
      "text/html": [
       "<div>\n",
       "<style scoped>\n",
       "    .dataframe tbody tr th:only-of-type {\n",
       "        vertical-align: middle;\n",
       "    }\n",
       "\n",
       "    .dataframe tbody tr th {\n",
       "        vertical-align: top;\n",
       "    }\n",
       "\n",
       "    .dataframe thead th {\n",
       "        text-align: right;\n",
       "    }\n",
       "</style>\n",
       "<table border=\"1\" class=\"dataframe\">\n",
       "  <thead>\n",
       "    <tr style=\"text-align: right;\">\n",
       "      <th></th>\n",
       "      <th>Time Stamps</th>\n",
       "      <th>Amount</th>\n",
       "    </tr>\n",
       "  </thead>\n",
       "  <tbody>\n",
       "    <tr>\n",
       "      <th>0</th>\n",
       "      <td>2020-10-04 14:30:00</td>\n",
       "      <td>1478.940532</td>\n",
       "    </tr>\n",
       "    <tr>\n",
       "      <th>1</th>\n",
       "      <td>2020-10-04 14:31:00</td>\n",
       "      <td>1540.896094</td>\n",
       "    </tr>\n",
       "    <tr>\n",
       "      <th>2</th>\n",
       "      <td>2020-10-04 14:32:00</td>\n",
       "      <td>1729.286787</td>\n",
       "    </tr>\n",
       "    <tr>\n",
       "      <th>3</th>\n",
       "      <td>2020-10-04 14:33:00</td>\n",
       "      <td>1798.814136</td>\n",
       "    </tr>\n",
       "    <tr>\n",
       "      <th>4</th>\n",
       "      <td>2020-10-04 14:34:00</td>\n",
       "      <td>1899.413158</td>\n",
       "    </tr>\n",
       "    <tr>\n",
       "      <th>...</th>\n",
       "      <td>...</td>\n",
       "      <td>...</td>\n",
       "    </tr>\n",
       "    <tr>\n",
       "      <th>650</th>\n",
       "      <td>2020-10-05 01:20:00</td>\n",
       "      <td>100685.776524</td>\n",
       "    </tr>\n",
       "    <tr>\n",
       "      <th>651</th>\n",
       "      <td>2020-10-05 01:21:00</td>\n",
       "      <td>100685.776524</td>\n",
       "    </tr>\n",
       "    <tr>\n",
       "      <th>652</th>\n",
       "      <td>2020-10-05 01:22:00</td>\n",
       "      <td>100685.776524</td>\n",
       "    </tr>\n",
       "    <tr>\n",
       "      <th>653</th>\n",
       "      <td>2020-10-05 01:23:00</td>\n",
       "      <td>100685.776524</td>\n",
       "    </tr>\n",
       "    <tr>\n",
       "      <th>654</th>\n",
       "      <td>2020-10-05 01:24:00</td>\n",
       "      <td>100685.776524</td>\n",
       "    </tr>\n",
       "  </tbody>\n",
       "</table>\n",
       "<p>655 rows × 2 columns</p>\n",
       "</div>"
      ],
      "text/plain": [
       "            Time Stamps         Amount\n",
       "0   2020-10-04 14:30:00    1478.940532\n",
       "1   2020-10-04 14:31:00    1540.896094\n",
       "2   2020-10-04 14:32:00    1729.286787\n",
       "3   2020-10-04 14:33:00    1798.814136\n",
       "4   2020-10-04 14:34:00    1899.413158\n",
       "..                  ...            ...\n",
       "650 2020-10-05 01:20:00  100685.776524\n",
       "651 2020-10-05 01:21:00  100685.776524\n",
       "652 2020-10-05 01:22:00  100685.776524\n",
       "653 2020-10-05 01:23:00  100685.776524\n",
       "654 2020-10-05 01:24:00  100685.776524\n",
       "\n",
       "[655 rows x 2 columns]"
      ]
     },
     "execution_count": 30,
     "metadata": {},
     "output_type": "execute_result"
    }
   ],
   "source": [
    "def add_minutes(Time, period):\n",
    "    res = Time + datetime.timedelta(minutes = period)\n",
    "    return res\n",
    "\n",
    "account = input()\n",
    "sum = 0.0\n",
    "start_time = datetime.datetime.strptime(\"2020-10-04 14:30:00\", \"%Y-%m-%d %H:%M:%S\")\n",
    "end_time = datetime.datetime.strptime(\"2020-10-05 12:20:00\", \"%Y-%m-%d %H:%M:%S\")\n",
    "period = 1\n",
    "Time = start_time\n",
    "sum = 0\n",
    "index = 0\n",
    "x = []\n",
    "x_t = []\n",
    "y = []\n",
    "\n",
    "while Time <= end_time:\n",
    "    x.append(index)\n",
    "    x_t.append(Time)\n",
    "    Time = add_minutes(Time, period)\n",
    "    index = index + 1\n",
    "\n",
    "Time = start_time\n",
    "\n",
    "for row in rows:\n",
    "    str = row[4]\n",
    "    str = str.removesuffix(\" +UTC\")\n",
    "    cur_time = datetime.datetime.strptime(str, \"%b-%d-%Y %I:%M:%S %p\")\n",
    "    while Time <= cur_time:\n",
    "        y.append(sum)\n",
    "        Time = add_minutes(Time, period)\n",
    "\n",
    "    if row[1] == account:\n",
    "        sum = sum - float(row[3])\n",
    "    if row[2] == account:\n",
    "        sum = sum + float(row[3])\n",
    "\n",
    "while Time <= end_time:\n",
    "    y.append(sum)\n",
    "    Time = add_minutes(Time, period)\n",
    "\n",
    "new_end = int(0.5 * len(x))\n",
    "x = x[: new_end]\n",
    "y = y[: new_end]\n",
    "x_t = x_t[: new_end]\n",
    "\n",
    "df = pd.DataFrame()\n",
    "df['Time Stamps'] = x_t\n",
    "df['Amount'] = y\n",
    "df"
   ]
  },
  {
   "cell_type": "code",
   "execution_count": 42,
   "metadata": {},
   "outputs": [
    {
     "data": {
      "text/plain": [
       "(655, 1)"
      ]
     },
     "execution_count": 42,
     "metadata": {},
     "output_type": "execute_result"
    },
    {
     "data": {
      "image/png": "[encoded data removed]",
      "text/plain": [
       "<Figure size 432x288 with 1 Axes>"
      ]
     },
     "metadata": {
      "needs_background": "light"
     },
     "output_type": "display_data"
    }
   ],
   "source": [
    "x = np.array(x).reshape(-1, 1)\n",
    "y = np.array(y)\n",
    "\n",
    "plt.scatter(df['Time Stamps'], df['Amount'], s = 5, color = 'red')\n",
    "plt.xlabel('Time Stamps')\n",
    "plt.title(\"Changes in user's account with time\")\n",
    "plt.ylabel('Amount')\n",
    "plt.xticks(rotation = 'vertical')\n",
    "\n",
    "x.shape"
   ]
  },
  {
   "cell_type": "code",
   "execution_count": 32,
   "metadata": {},
   "outputs": [
    {
     "name": "stdout",
     "output_type": "stream",
     "text": [
      "P - value :  0.28922342664996237\n"
     ]
    }
   ],
   "source": [
    "def ad_test(dataset):\n",
    "    dftest = adfuller(dataset, autolag = \"AIC\")\n",
    "    print(\"P - value : \", dftest[1])\n",
    "\n",
    "ad_test(y)"
   ]
  },
  {
   "cell_type": "code",
   "execution_count": 33,
   "metadata": {},
   "outputs": [
    {
     "name": "stdout",
     "output_type": "stream",
     "text": [
      "(458,) (197,)\n"
     ]
    }
   ],
   "source": [
    "train_size = int(0.7 * x.shape[0])\n",
    "\n",
    "y_train = y[:train_size]\n",
    "y_test = y[train_size:]\n",
    "\n",
    "x_train = x[:train_size]\n",
    "x_test = x[train_size:]\n",
    "\n",
    "print(y_train.shape, y_test.shape)"
   ]
  },
  {
   "cell_type": "code",
   "execution_count": 34,
   "metadata": {},
   "outputs": [
    {
     "name": "stdout",
     "output_type": "stream",
     "text": [
      "Performing stepwise search to minimize aic\n",
      " ARIMA(2,2,2)(0,0,0)[0]             : AIC=9369.883, Time=0.52 sec\n",
      " ARIMA(0,2,0)(0,0,0)[0]             : AIC=9794.996, Time=0.01 sec\n",
      " ARIMA(1,2,0)(0,0,0)[0]             : AIC=9590.793, Time=0.01 sec\n",
      " ARIMA(0,2,1)(0,0,0)[0]             : AIC=9368.181, Time=0.06 sec\n",
      " ARIMA(1,2,1)(0,0,0)[0]             : AIC=9369.841, Time=0.12 sec\n",
      " ARIMA(0,2,2)(0,0,0)[0]             : AIC=9369.854, Time=0.11 sec\n",
      " ARIMA(1,2,2)(0,0,0)[0]             : AIC=9367.887, Time=0.38 sec\n",
      " ARIMA(1,2,3)(0,0,0)[0]             : AIC=9369.883, Time=0.62 sec\n",
      " ARIMA(0,2,3)(0,0,0)[0]             : AIC=9371.608, Time=0.24 sec\n",
      " ARIMA(2,2,1)(0,0,0)[0]             : AIC=9371.571, Time=0.20 sec\n",
      " ARIMA(2,2,3)(0,0,0)[0]             : AIC=9371.757, Time=0.57 sec\n",
      " ARIMA(1,2,2)(0,0,0)[0] intercept   : AIC=9369.791, Time=0.47 sec\n",
      "\n",
      "Best model:  ARIMA(1,2,2)(0,0,0)[0]          \n",
      "Total fit time: 3.326 seconds\n"
     ]
    },
    {
     "data": {
      "text/html": [
       "<table class=\"simpletable\">\n",
       "<caption>SARIMAX Results</caption>\n",
       "<tr>\n",
       "  <th>Dep. Variable:</th>           <td>y</td>        <th>  No. Observations:  </th>    <td>655</td>   \n",
       "</tr>\n",
       "<tr>\n",
       "  <th>Model:</th>           <td>SARIMAX(1, 2, 2)</td> <th>  Log Likelihood     </th> <td>-4679.944</td>\n",
       "</tr>\n",
       "<tr>\n",
       "  <th>Date:</th>            <td>Thu, 05 May 2022</td> <th>  AIC                </th> <td>9367.887</td> \n",
       "</tr>\n",
       "<tr>\n",
       "  <th>Time:</th>                <td>03:46:14</td>     <th>  BIC                </th> <td>9385.814</td> \n",
       "</tr>\n",
       "<tr>\n",
       "  <th>Sample:</th>                  <td>0</td>        <th>  HQIC               </th> <td>9374.839</td> \n",
       "</tr>\n",
       "<tr>\n",
       "  <th></th>                      <td> - 655</td>      <th>                     </th>     <td> </td>    \n",
       "</tr>\n",
       "<tr>\n",
       "  <th>Covariance Type:</th>        <td>opg</td>       <th>                     </th>     <td> </td>    \n",
       "</tr>\n",
       "</table>\n",
       "<table class=\"simpletable\">\n",
       "<tr>\n",
       "     <td></td>       <th>coef</th>     <th>std err</th>      <th>z</th>      <th>P>|z|</th>  <th>[0.025</th>    <th>0.975]</th>  \n",
       "</tr>\n",
       "<tr>\n",
       "  <th>ar.L1</th>  <td>   -0.9722</td> <td>    0.041</td> <td>  -23.535</td> <td> 0.000</td> <td>   -1.053</td> <td>   -0.891</td>\n",
       "</tr>\n",
       "<tr>\n",
       "  <th>ma.L1</th>  <td>    0.0107</td> <td>    0.064</td> <td>    0.166</td> <td> 0.868</td> <td>   -0.115</td> <td>    0.137</td>\n",
       "</tr>\n",
       "<tr>\n",
       "  <th>ma.L2</th>  <td>   -0.8986</td> <td>    0.046</td> <td>  -19.641</td> <td> 0.000</td> <td>   -0.988</td> <td>   -0.809</td>\n",
       "</tr>\n",
       "<tr>\n",
       "  <th>sigma2</th> <td>   9.8e+04</td> <td> 1337.427</td> <td>   73.274</td> <td> 0.000</td> <td> 9.54e+04</td> <td> 1.01e+05</td>\n",
       "</tr>\n",
       "</table>\n",
       "<table class=\"simpletable\">\n",
       "<tr>\n",
       "  <th>Ljung-Box (L1) (Q):</th>     <td>0.00</td> <th>  Jarque-Bera (JB):  </th> <td>87349.28</td>\n",
       "</tr>\n",
       "<tr>\n",
       "  <th>Prob(Q):</th>                <td>0.98</td> <th>  Prob(JB):          </th>   <td>0.00</td>  \n",
       "</tr>\n",
       "<tr>\n",
       "  <th>Heteroskedasticity (H):</th> <td>0.43</td> <th>  Skew:              </th>   <td>6.67</td>  \n",
       "</tr>\n",
       "<tr>\n",
       "  <th>Prob(H) (two-sided):</th>    <td>0.00</td> <th>  Kurtosis:          </th>   <td>58.07</td> \n",
       "</tr>\n",
       "</table><br/><br/>Warnings:<br/>[1] Covariance matrix calculated using the outer product of gradients (complex-step)."
      ],
      "text/plain": [
       "<class 'statsmodels.iolib.summary.Summary'>\n",
       "\"\"\"\n",
       "                               SARIMAX Results                                \n",
       "==============================================================================\n",
       "Dep. Variable:                      y   No. Observations:                  655\n",
       "Model:               SARIMAX(1, 2, 2)   Log Likelihood               -4679.944\n",
       "Date:                Thu, 05 May 2022   AIC                           9367.887\n",
       "Time:                        03:46:14   BIC                           9385.814\n",
       "Sample:                             0   HQIC                          9374.839\n",
       "                                - 655                                         \n",
       "Covariance Type:                  opg                                         \n",
       "==============================================================================\n",
       "                 coef    std err          z      P>|z|      [0.025      0.975]\n",
       "------------------------------------------------------------------------------\n",
       "ar.L1         -0.9722      0.041    -23.535      0.000      -1.053      -0.891\n",
       "ma.L1          0.0107      0.064      0.166      0.868      -0.115       0.137\n",
       "ma.L2         -0.8986      0.046    -19.641      0.000      -0.988      -0.809\n",
       "sigma2        9.8e+04   1337.427     73.274      0.000    9.54e+04    1.01e+05\n",
       "===================================================================================\n",
       "Ljung-Box (L1) (Q):                   0.00   Jarque-Bera (JB):             87349.28\n",
       "Prob(Q):                              0.98   Prob(JB):                         0.00\n",
       "Heteroskedasticity (H):               0.43   Skew:                             6.67\n",
       "Prob(H) (two-sided):                  0.00   Kurtosis:                        58.07\n",
       "===================================================================================\n",
       "\n",
       "Warnings:\n",
       "[1] Covariance matrix calculated using the outer product of gradients (complex-step).\n",
       "\"\"\""
      ]
     },
     "execution_count": 34,
     "metadata": {},
     "output_type": "execute_result"
    }
   ],
   "source": [
    "stepwise_fit = auto_arima(y,          \n",
    "                      seasonal=True,   \n",
    "                      trace=True,\n",
    "                      error_action='ignore',  \n",
    "                      suppress_warnings=True, \n",
    "                      stepwise=True)\n",
    "stepwise_fit.summary()"
   ]
  },
  {
   "cell_type": "code",
   "execution_count": 35,
   "metadata": {},
   "outputs": [],
   "source": [
    "arima_order = stepwise_fit.get_params().get(\"order\")"
   ]
  },
  {
   "cell_type": "code",
   "execution_count": 36,
   "metadata": {},
   "outputs": [],
   "source": [
    "history = [x for x in y_train]\n",
    "predictions = list()\n",
    "for t in range(len(y_test)):\n",
    "\tmodel = ARIMA(history, order=arima_order)\n",
    "\tmodel_fit = model.fit()\n",
    "\toutput = model_fit.forecast()\n",
    "\tyhat = output[0]\n",
    "\tpredictions.append(yhat)\n",
    "\tobs = y_test[t]\n",
    "\thistory.append(obs)"
   ]
  },
  {
   "cell_type": "code",
   "execution_count": 37,
   "metadata": {},
   "outputs": [
    {
     "data": {
      "text/plain": [
       "197"
      ]
     },
     "execution_count": 37,
     "metadata": {},
     "output_type": "execute_result"
    }
   ],
   "source": [
    "len(predictions)\n",
    "# train_size, test_end"
   ]
  },
  {
   "cell_type": "code",
   "execution_count": 38,
   "metadata": {},
   "outputs": [
    {
     "data": {
      "image/png": "[encoded data removed]",
      "text/plain": [
       "<Figure size 432x288 with 1 Axes>"
      ]
     },
     "metadata": {
      "needs_background": "light"
     },
     "output_type": "display_data"
    }
   ],
   "source": [
    "plt.scatter(x_t[train_size:], y[train_size:], s = 5, color = \"red\", label = \"Original\")\n",
    "plt.xticks(rotation = 'vertical')\n",
    "plt.xlabel('Time Stamps')\n",
    "plt.ylabel('Amount')\n",
    "plt.title('Test Set Predictions')\n",
    "plt.scatter(x_t[train_size:], predictions, s = 5, color = \"blue\", label = \"Predicted\")\n",
    "plt.legend()\n",
    "plt.show()"
   ]
  },
  {
   "cell_type": "code",
   "execution_count": 39,
   "metadata": {},
   "outputs": [
    {
     "name": "stdout",
     "output_type": "stream",
     "text": [
      "Mean :  93473.32376452067\n"
     ]
    }
   ],
   "source": [
    "print(\"Mean : \", y_test.mean())"
   ]
  },
  {
   "cell_type": "code",
   "execution_count": 41,
   "metadata": {},
   "outputs": [
    {
     "name": "stdout",
     "output_type": "stream",
     "text": [
      "RMSE :  286.14063780880275\n",
      "MSE :  81876.46460562843\n",
      "MAE :  114.04408127041411\n",
      "R2 :  0.9985538347181823\n"
     ]
    }
   ],
   "source": [
    "print(\"RMSE : \", rmse(y_test, predictions))\n",
    "print(\"MSE : \", mean_squared_error(y_test, predictions))\n",
    "print(\"MAE : \", mean_absolute_error(y_test, predictions))\n",
    "print(\"R2 : \", r2_score(y_test, predictions))"
   ]
  }
 ],
 "metadata": {
  "interpreter": {
   "hash": "bba987fa731360e83f31249e16e348c0cc0aed0528fa865ae9a245adaa6656a4"
  },
  "kernelspec": {
   "display_name": "Python 3.9.12 64-bit (windows store)",
   "language": "python",
   "name": "python3"
  },
  "language_info": {
   "codemirror_mode": {
    "name": "ipython",
    "version": 3
   },
   "file_extension": ".py",
   "mimetype": "text/x-python",
   "name": "python",
   "nbconvert_exporter": "python",
   "pygments_lexer": "ipython3",
   "version": "3.9.12"
  },
  "orig_nbformat": 4
 },
 "nbformat": 4,
 "nbformat_minor": 2
}
