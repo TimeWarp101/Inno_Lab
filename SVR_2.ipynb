{
 "cells": [
  {
   "cell_type": "code",
   "execution_count": 83,
   "metadata": {},
   "outputs": [],
   "source": [
    "import numpy as np\n",
    "import csv\n",
    "import datetime\n",
    "import timedelta\n",
    "import pandas as pd\n",
    "from sklearn.svm import SVR\n",
    "from sklearn.preprocessing import StandardScaler\n",
    "from sklearn.metrics import mean_squared_error, r2_score, mean_absolute_error\n",
    "from statsmodels.tools.eval_measures import rmse\n",
    "from sklearn.pipeline import make_pipeline\n",
    "from sklearn.model_selection import train_test_split \n",
    "from sklearn.model_selection import TimeSeriesSplit\n",
    "import matplotlib.pyplot as plt"
   ]
  },
  {
   "cell_type": "code",
   "execution_count": 84,
   "metadata": {},
   "outputs": [],
   "source": [
    "file = open(\"../Simplified_Dataset.csv\")\n",
    "csvreader = csv.reader(file)\n",
    "rows = []\n",
    "header = next(csvreader)\n",
    "for row in csvreader:\n",
    "    rows.append(row)\n",
    "file.close()"
   ]
  },
  {
   "cell_type": "code",
   "execution_count": 85,
   "metadata": {},
   "outputs": [
    {
     "data": {
      "text/html": [
       "<div>\n",
       "<style scoped>\n",
       "    .dataframe tbody tr th:only-of-type {\n",
       "        vertical-align: middle;\n",
       "    }\n",
       "\n",
       "    .dataframe tbody tr th {\n",
       "        vertical-align: top;\n",
       "    }\n",
       "\n",
       "    .dataframe thead th {\n",
       "        text-align: right;\n",
       "    }\n",
       "</style>\n",
       "<table border=\"1\" class=\"dataframe\">\n",
       "  <thead>\n",
       "    <tr style=\"text-align: right;\">\n",
       "      <th></th>\n",
       "      <th>Time Stamps</th>\n",
       "      <th>Amount</th>\n",
       "    </tr>\n",
       "  </thead>\n",
       "  <tbody>\n",
       "    <tr>\n",
       "      <th>0</th>\n",
       "      <td>2020-10-04 14:30:00</td>\n",
       "      <td>1478.940532</td>\n",
       "    </tr>\n",
       "    <tr>\n",
       "      <th>1</th>\n",
       "      <td>2020-10-04 14:31:00</td>\n",
       "      <td>1540.896094</td>\n",
       "    </tr>\n",
       "    <tr>\n",
       "      <th>2</th>\n",
       "      <td>2020-10-04 14:32:00</td>\n",
       "      <td>1729.286787</td>\n",
       "    </tr>\n",
       "    <tr>\n",
       "      <th>3</th>\n",
       "      <td>2020-10-04 14:33:00</td>\n",
       "      <td>1798.814136</td>\n",
       "    </tr>\n",
       "    <tr>\n",
       "      <th>4</th>\n",
       "      <td>2020-10-04 14:34:00</td>\n",
       "      <td>1899.413158</td>\n",
       "    </tr>\n",
       "    <tr>\n",
       "      <th>...</th>\n",
       "      <td>...</td>\n",
       "      <td>...</td>\n",
       "    </tr>\n",
       "    <tr>\n",
       "      <th>650</th>\n",
       "      <td>2020-10-05 01:20:00</td>\n",
       "      <td>100685.776524</td>\n",
       "    </tr>\n",
       "    <tr>\n",
       "      <th>651</th>\n",
       "      <td>2020-10-05 01:21:00</td>\n",
       "      <td>100685.776524</td>\n",
       "    </tr>\n",
       "    <tr>\n",
       "      <th>652</th>\n",
       "      <td>2020-10-05 01:22:00</td>\n",
       "      <td>100685.776524</td>\n",
       "    </tr>\n",
       "    <tr>\n",
       "      <th>653</th>\n",
       "      <td>2020-10-05 01:23:00</td>\n",
       "      <td>100685.776524</td>\n",
       "    </tr>\n",
       "    <tr>\n",
       "      <th>654</th>\n",
       "      <td>2020-10-05 01:24:00</td>\n",
       "      <td>100685.776524</td>\n",
       "    </tr>\n",
       "  </tbody>\n",
       "</table>\n",
       "<p>655 rows × 2 columns</p>\n",
       "</div>"
      ],
      "text/plain": [
       "            Time Stamps         Amount\n",
       "0   2020-10-04 14:30:00    1478.940532\n",
       "1   2020-10-04 14:31:00    1540.896094\n",
       "2   2020-10-04 14:32:00    1729.286787\n",
       "3   2020-10-04 14:33:00    1798.814136\n",
       "4   2020-10-04 14:34:00    1899.413158\n",
       "..                  ...            ...\n",
       "650 2020-10-05 01:20:00  100685.776524\n",
       "651 2020-10-05 01:21:00  100685.776524\n",
       "652 2020-10-05 01:22:00  100685.776524\n",
       "653 2020-10-05 01:23:00  100685.776524\n",
       "654 2020-10-05 01:24:00  100685.776524\n",
       "\n",
       "[655 rows x 2 columns]"
      ]
     },
     "execution_count": 85,
     "metadata": {},
     "output_type": "execute_result"
    }
   ],
   "source": [
    "def add_minutes(Time, period):\n",
    "    res = Time + datetime.timedelta(minutes = period)\n",
    "    return res\n",
    "\n",
    "account = input()\n",
    "sum = 0.0\n",
    "start_time = datetime.datetime.strptime(\"2020-10-04 14:30:00\", \"%Y-%m-%d %H:%M:%S\")\n",
    "end_time = datetime.datetime.strptime(\"2020-10-05 12:20:00\", \"%Y-%m-%d %H:%M:%S\")\n",
    "period = 1\n",
    "Time = start_time\n",
    "sum = 0\n",
    "index = 0\n",
    "x = []\n",
    "x_t = []\n",
    "y = []\n",
    "\n",
    "while Time <= end_time:\n",
    "    x.append(index)\n",
    "    x_t.append(Time)\n",
    "    Time = add_minutes(Time, period)\n",
    "    index = index + 1\n",
    "\n",
    "Time = start_time\n",
    "\n",
    "for row in rows:\n",
    "    str = row[4]\n",
    "    str = str.removesuffix(\" +UTC\")\n",
    "    cur_time = datetime.datetime.strptime(str, \"%b-%d-%Y %I:%M:%S %p\")\n",
    "    while Time <= cur_time:\n",
    "        y.append(sum)\n",
    "        Time = add_minutes(Time, period)\n",
    "\n",
    "    if row[1] == account:\n",
    "        sum = sum - float(row[3])\n",
    "    if row[2] == account:\n",
    "        sum = sum + float(row[3])\n",
    "\n",
    "while Time <= end_time:\n",
    "    y.append(sum)\n",
    "    Time = add_minutes(Time, period)\n",
    "\n",
    "new_end = int(0.5 * len(x))\n",
    "x = x[: new_end]\n",
    "y = y[: new_end]\n",
    "# x_t = x_t[: new_end]\n",
    "\n",
    "df = pd.DataFrame()\n",
    "df['Time Stamps'] = x_t[: new_end]\n",
    "df['Amount'] = y\n",
    "df"
   ]
  },
  {
   "cell_type": "code",
   "execution_count": 86,
   "metadata": {},
   "outputs": [
    {
     "data": {
      "text/plain": [
       "(655, 1)"
      ]
     },
     "execution_count": 86,
     "metadata": {},
     "output_type": "execute_result"
    },
    {
     "data": {
      "image/png": "[encoded data removed]",
      "text/plain": [
       "<Figure size 432x288 with 1 Axes>"
      ]
     },
     "metadata": {
      "needs_background": "light"
     },
     "output_type": "display_data"
    }
   ],
   "source": [
    "x = np.array(x).reshape(-1, 1)\n",
    "y = np.array(y)\n",
    "\n",
    "plt.scatter(df['Time Stamps'], df['Amount'], s = 5, color = 'red')\n",
    "plt.xlabel('Time Stamps')\n",
    "plt.ylabel('Amount')\n",
    "plt.title(\"Changes in user's account with time\")\n",
    "plt.xticks(rotation = 'vertical')\n",
    "\n",
    "x.shape"
   ]
  },
  {
   "cell_type": "code",
   "execution_count": 87,
   "metadata": {},
   "outputs": [
    {
     "name": "stdout",
     "output_type": "stream",
     "text": [
      "(458,) (197,)\n"
     ]
    }
   ],
   "source": [
    "train_size = int(0.7 * x.shape[0])\n",
    "\n",
    "y_train = y[:train_size]\n",
    "y_test = y[train_size:]\n",
    "\n",
    "x_train = x[:train_size]\n",
    "x_test = x[train_size:]\n",
    "\n",
    "print(y_train.shape, y_test.shape)\n",
    "\n",
    "scalerX = StandardScaler()\n",
    "\n",
    "x_train_scale = scalerX.fit_transform(x_train)\n",
    "x_test_scale = scalerX.fit_transform(x_test)\n",
    "\n",
    "scalerY = StandardScaler()\n",
    "\n",
    "y_train = np.array(y_train).reshape(-1, 1)\n",
    "y_test = np.array(y_test).reshape(-1, 1)\n",
    "\n",
    "y_train_scale = scalerY.fit_transform(y_train)\n",
    "y_test_scale = scalerY.fit_transform(y_test)"
   ]
  },
  {
   "cell_type": "code",
   "execution_count": 88,
   "metadata": {},
   "outputs": [
    {
     "name": "stdout",
     "output_type": "stream",
     "text": [
      "SVR(C=10, epsilon=0.05, gamma=0.5)\n"
     ]
    },
    {
     "name": "stderr",
     "output_type": "stream",
     "text": [
      "C:\\Users\\Acer Assfire 7\\AppData\\Local\\Packages\\PythonSoftwareFoundation.Python.3.9_qbz5n2kfra8p0\\LocalCache\\local-packages\\Python39\\site-packages\\sklearn\\utils\\validation.py:993: DataConversionWarning: A column-vector y was passed when a 1d array was expected. Please change the shape of y to (n_samples, ), for example using ravel().\n",
      "  y = column_or_1d(y, warn=True)\n"
     ]
    }
   ],
   "source": [
    "model = SVR(kernel = 'rbf', gamma = 0.5, C = 10, epsilon = 0.05)\n",
    "svr = model.fit(x_train_scale, y_train_scale)\n",
    "print(svr)"
   ]
  },
  {
   "cell_type": "code",
   "execution_count": 89,
   "metadata": {},
   "outputs": [],
   "source": [
    "result_scaled = svr.predict(x_test_scale)\n",
    "result_scaled = np.array(result_scaled).reshape(-1, 1)\n",
    "results = scalerY.inverse_transform(result_scaled)"
   ]
  },
  {
   "cell_type": "code",
   "execution_count": 90,
   "metadata": {},
   "outputs": [
    {
     "data": {
      "image/png": "[encoded data removed]",
      "text/plain": [
       "<Figure size 432x288 with 1 Axes>"
      ]
     },
     "metadata": {
      "needs_background": "light"
     },
     "output_type": "display_data"
    }
   ],
   "source": [
    "plt.scatter(x_t[train_size : new_end], y[train_size:], s = 5, color = \"red\", label = \"Original\")\n",
    "plt.xticks(rotation = 'vertical')\n",
    "plt.xlabel('Time Stamps')\n",
    "plt.ylabel('Amount')\n",
    "plt.title('Test Set Predictions')\n",
    "plt.scatter(x_t[train_size : new_end], results, s = 5, color = \"blue\", label = \"Predicted\")\n",
    "plt.legend()\n",
    "plt.show()"
   ]
  },
  {
   "cell_type": "markdown",
   "metadata": {},
   "source": [
    "Test Scores"
   ]
  },
  {
   "cell_type": "code",
   "execution_count": 91,
   "metadata": {},
   "outputs": [
    {
     "name": "stdout",
     "output_type": "stream",
     "text": [
      "RMSE :  [1942.30346967]\n",
      "MSE :  3772542.768308314\n",
      "MAE :  1609.409708368654\n",
      "R2 :  0.933366439281684\n"
     ]
    }
   ],
   "source": [
    "print(\"RMSE : \", rmse(y_test, results))\n",
    "print(\"MSE : \", mean_squared_error(y_test, results))\n",
    "print(\"MAE : \", mean_absolute_error(y_test, results))\n",
    "print(\"R2 : \", r2_score(y_test, results))"
   ]
  }
 ],
 "metadata": {
  "interpreter": {
   "hash": "bba987fa731360e83f31249e16e348c0cc0aed0528fa865ae9a245adaa6656a4"
  },
  "kernelspec": {
   "display_name": "Python 3.9.12 64-bit (windows store)",
   "language": "python",
   "name": "python3"
  },
  "language_info": {
   "codemirror_mode": {
    "name": "ipython",
    "version": 3
   },
   "file_extension": ".py",
   "mimetype": "text/x-python",
   "name": "python",
   "nbconvert_exporter": "python",
   "pygments_lexer": "ipython3",
   "version": "3.9.12"
  },
  "orig_nbformat": 4
 },
 "nbformat": 4,
 "nbformat_minor": 2
}
