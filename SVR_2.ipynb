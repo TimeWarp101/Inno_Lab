{
 "cells": [
  {
   "cell_type": "code",
   "execution_count": 1,
   "metadata": {},
   "outputs": [],
   "source": [
    "import numpy as np\n",
    "import csv\n",
    "import datetime\n",
    "import timedelta\n",
    "from sklearn.svm import SVR\n",
    "from sklearn.preprocessing import StandardScaler\n",
    "from sklearn.metrics import mean_squared_error\n",
    "from sklearn.pipeline import make_pipeline\n",
    "from sklearn.model_selection import train_test_split \n",
    "from sklearn.model_selection import TimeSeriesSplit\n",
    "import matplotlib.pyplot as plt"
   ]
  },
  {
   "cell_type": "code",
   "execution_count": 2,
   "metadata": {},
   "outputs": [],
   "source": [
    "file = open(\"../Simplified_Dataset.csv\")\n",
    "csvreader = csv.reader(file)\n",
    "rows = []\n",
    "header = next(csvreader)\n",
    "for row in csvreader:\n",
    "    rows.append(row)\n",
    "file.close()"
   ]
  },
  {
   "cell_type": "code",
   "execution_count": 3,
   "metadata": {},
   "outputs": [
    {
     "name": "stdout",
     "output_type": "stream",
     "text": [
      "(458, 1)\n",
      "(197, 1)\n"
     ]
    },
    {
     "data": {
      "image/png": "[encoded data removed]",
      "text/plain": [
       "<Figure size 432x288 with 1 Axes>"
      ]
     },
     "metadata": {
      "needs_background": "light"
     },
     "output_type": "display_data"
    }
   ],
   "source": [
    "def add_minutes(Time, period):\n",
    "    res = Time + datetime.timedelta(minutes = period)\n",
    "    return res\n",
    "\n",
    "account = input()\n",
    "sum = 0.0\n",
    "start_time = datetime.datetime.strptime(\"2020-10-04 14:30:00\", \"%Y-%m-%d %H:%M:%S\")\n",
    "end_time = datetime.datetime.strptime(\"2020-10-05 12:20:00\", \"%Y-%m-%d %H:%M:%S\")\n",
    "period = 1\n",
    "Time = start_time\n",
    "sum = 0\n",
    "index = 0\n",
    "x = []\n",
    "y = []\n",
    "\n",
    "while Time <= end_time:\n",
    "    x.append(index)\n",
    "    Time = add_minutes(Time, period)\n",
    "    index = index + 1\n",
    "\n",
    "Time = start_time\n",
    "\n",
    "for row in rows:\n",
    "    str = row[4]\n",
    "    str = str.removesuffix(\" +UTC\")\n",
    "    cur_time = datetime.datetime.strptime(str, \"%b-%d-%Y %I:%M:%S %p\")\n",
    "    while Time <= cur_time:\n",
    "        y.append(sum)\n",
    "        Time = add_minutes(Time, period)\n",
    "\n",
    "    if row[1] == account:\n",
    "        sum = sum - float(row[3])\n",
    "    if row[2] == account:\n",
    "        sum = sum + float(row[3])\n",
    "\n",
    "while Time <= end_time:\n",
    "    y.append(sum)\n",
    "    Time = add_minutes(Time, period)\n",
    "\n",
    "x = np.array(x).reshape(-1, 1)\n",
    "\n",
    "train_size = int(x.shape[0] * 0.35)\n",
    "test_end = int(x.shape[0] * 0.5)\n",
    "\n",
    "x_train = x[:train_size]\n",
    "x_test = x[train_size : test_end]\n",
    "y_train = y[:train_size]\n",
    "y_test = y[train_size : test_end]\n",
    "# x_train, x_test, y_train, y_test = train_test_split(x, y, test_size = 0.2, random_state = 4)\n",
    "scalar = StandardScaler()\n",
    "x_train_scale = scalar.fit_transform(x_train)\n",
    "x_test_scale = scalar.fit_transform(x_test)\n",
    "scalarY = StandardScaler()\n",
    "y_train = np.array(y_train).reshape(-1, 1)\n",
    "y_test = np.array(y_test).reshape(-1, 1)\n",
    "y_train_scale = scalarY.fit_transform(y_train)\n",
    "y_test_scale = scalarY.fit_transform(y_test)\n",
    "print(x_train.shape)\n",
    "print(x_test.shape)\n",
    "plt.scatter(x, y, s = 5, color = \"red\")\n",
    "plt.show()"
   ]
  },
  {
   "cell_type": "code",
   "execution_count": 4,
   "metadata": {},
   "outputs": [
    {
     "name": "stdout",
     "output_type": "stream",
     "text": [
      "SVR()\n"
     ]
    },
    {
     "name": "stderr",
     "output_type": "stream",
     "text": [
      "C:\\Users\\Acer Assfire 7\\AppData\\Local\\Packages\\PythonSoftwareFoundation.Python.3.9_qbz5n2kfra8p0\\LocalCache\\local-packages\\Python39\\site-packages\\sklearn\\utils\\validation.py:993: DataConversionWarning: A column-vector y was passed when a 1d array was expected. Please change the shape of y to (n_samples, ), for example using ravel().\n",
      "  y = column_or_1d(y, warn=True)\n"
     ]
    }
   ],
   "source": [
    "svr = SVR().fit(x_train_scale, y_train_scale)\n",
    "print(svr)"
   ]
  },
  {
   "cell_type": "code",
   "execution_count": 5,
   "metadata": {},
   "outputs": [
    {
     "name": "stdout",
     "output_type": "stream",
     "text": [
      "(197, 1)\n"
     ]
    },
    {
     "data": {
      "image/png": "[encoded data removed]",
      "text/plain": [
       "<Figure size 432x288 with 1 Axes>"
      ]
     },
     "metadata": {
      "needs_background": "light"
     },
     "output_type": "display_data"
    }
   ],
   "source": [
    "yfit_scaled = svr.predict(x_test_scale)\n",
    "yfit_scaled = np.array(yfit_scaled).reshape(-1, 1)\n",
    "yfit = scalarY.inverse_transform(yfit_scaled)\n",
    "\n",
    "print(x_test.shape)\n",
    "\n",
    "plt.scatter(x_test, y_test, s = 5, color = \"red\", label = \"Original\")\n",
    "plt.scatter(x_test, yfit, s = 5, color = \"blue\", label = \"Predicted\")\n",
    "plt.legend()\n",
    "plt.show()"
   ]
  },
  {
   "cell_type": "markdown",
   "metadata": {},
   "source": [
    "Test Scores"
   ]
  },
  {
   "cell_type": "code",
   "execution_count": 6,
   "metadata": {},
   "outputs": [
    {
     "name": "stdout",
     "output_type": "stream",
     "text": [
      "R-squared :  0.9441521958143753\n",
      "MSE :  3161893.6093935035\n"
     ]
    }
   ],
   "source": [
    "score = svr.score(x_test_scale, y_test_scale)\n",
    "print(\"R-squared : \", score)\n",
    "MSE = mean_squared_error(y_test, yfit)\n",
    "print(\"MSE : \", MSE)"
   ]
  }
 ],
 "metadata": {
  "interpreter": {
   "hash": "bba987fa731360e83f31249e16e348c0cc0aed0528fa865ae9a245adaa6656a4"
  },
  "kernelspec": {
   "display_name": "Python 3.9.12 64-bit (windows store)",
   "language": "python",
   "name": "python3"
  },
  "language_info": {
   "codemirror_mode": {
    "name": "ipython",
    "version": 3
   },
   "file_extension": ".py",
   "mimetype": "text/x-python",
   "name": "python",
   "nbconvert_exporter": "python",
   "pygments_lexer": "ipython3",
   "version": "3.9.12"
  },
  "orig_nbformat": 4
 },
 "nbformat": 4,
 "nbformat_minor": 2
}
