{
 "cells": [
  {
   "cell_type": "code",
   "execution_count": 3,
   "metadata": {},
   "outputs": [],
   "source": [
    "import csv"
   ]
  },
  {
   "cell_type": "code",
   "execution_count": 4,
   "metadata": {},
   "outputs": [],
   "source": [
    "file = open(\"Simplified_Dataset.csv\")\n",
    "csvreader = csv.reader(file)\n",
    "header = next(csvreader)\n",
    "rows = []\n",
    "for row in csvreader:\n",
    "    rows.append(row)\n",
    "file.close()"
   ]
  },
  {
   "cell_type": "code",
   "execution_count": 5,
   "metadata": {},
   "outputs": [],
   "source": [
    "frequency = {}\n",
    "for row in rows:\n",
    "    frequency[row[1]] = 0\n",
    "    frequency[row[2]] = 0\n",
    "for row in rows:\n",
    "    frequency[row[1]] = frequency[row[1]] + 1\n",
    "    frequency[row[2]] = frequency[row[2]] + 1"
   ]
  },
  {
   "cell_type": "code",
   "execution_count": 6,
   "metadata": {},
   "outputs": [],
   "source": [
    "freq_elem = []\n",
    "for key, value in frequency.items():\n",
    "    freq_elem.append((value, key))\n",
    "\n",
    "freq_elem.sort(reverse = True)\n"
   ]
  },
  {
   "cell_type": "code",
   "execution_count": 7,
   "metadata": {},
   "outputs": [
    {
     "name": "stdout",
     "output_type": "stream",
     "text": [
      "0x7a250d5630b4cf539739df2c5dacb4c659f2488d 18895\n",
      "0xea674fdde714fd979de3edf0f56aa9716b898ec8 5379\n",
      "0x4fed1fc4144c223ae3c1553be203cdfcbd38c581 2048\n",
      "0x5aa4903fb11bbaaa56b35e6477c58012a62a5b2f 2000\n",
      "0x52bc44d5378309ee2abf1539bf71de1b7d7be3b5 1583\n",
      "0x3f5ce5fbfe3e9af3971dd833d26ba9b5c936f0be 1514\n",
      "0x69ae0b74d23a741a25a6e997de6418f374a0cf4d 1349\n",
      "0x46340b20830761efd32832a74d7169b29feb9758 835\n",
      "0xd551234ae421e3bcba99a0da6d736074f22192ff 764\n",
      "0x0681d8db095565fe8a346fa0277bffde9c0edbbf 728\n",
      "0x564286362092d8e7936f0549571a803b203aaced 711\n",
      "0x5acc84a3e955bdd76467d3348077d003f00ffb97 681\n",
      "0x18916e1a2933cb349145a280473a5de8eb6630cb 651\n",
      "0x00192fb10df37c9fb26829eb2cc623cd1bf599e8 649\n",
      "0xc94ebb328ac25b95db0e0aa968371885fa516215 568\n",
      "0x10fd90d8f1543fff6b8056bcf40dfb39231781c4 542\n",
      "0x11e0204e904ecee7606fc67932ac4187341deecc 440\n",
      "0x91683899ed812c1ac49590779cb72da6bf7971fe 368\n",
      "0xbd8db0797a07e2351c412bece1d45c4ceed66e1a 364\n",
      "0x0aeee23d16084d763e7a65577020c1f3d18804f2 347\n"
     ]
    }
   ],
   "source": [
    "N = 20\n",
    "for i in range(N):\n",
    "    print(freq_elem[i][1], freq_elem[i][0])"
   ]
  }
 ],
 "metadata": {
  "interpreter": {
   "hash": "bba987fa731360e83f31249e16e348c0cc0aed0528fa865ae9a245adaa6656a4"
  },
  "kernelspec": {
   "display_name": "Python 3.9.12 64-bit (windows store)",
   "language": "python",
   "name": "python3"
  },
  "language_info": {
   "codemirror_mode": {
    "name": "ipython",
    "version": 3
   },
   "file_extension": ".py",
   "mimetype": "text/x-python",
   "name": "python",
   "nbconvert_exporter": "python",
   "pygments_lexer": "ipython3",
   "version": "3.9.12"
  },
  "orig_nbformat": 4
 },
 "nbformat": 4,
 "nbformat_minor": 2
}
